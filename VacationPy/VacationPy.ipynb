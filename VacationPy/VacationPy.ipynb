{
 "cells": [
  {
   "cell_type": "markdown",
   "metadata": {},
   "source": [
    "# VacationPy\n",
    "----\n",
    "\n",
    "#### Note\n",
    "* Instructions have been included for each segment. You do not have to follow them exactly, but they are included to help you think through the steps."
   ]
  },
  {
   "cell_type": "code",
   "execution_count": 1,
   "metadata": {},
   "outputs": [],
   "source": [
    "# Dependencies and Setup\n",
    "import matplotlib.pyplot as plt\n",
    "import pandas as pd\n",
    "import numpy as np\n",
    "import requests\n",
    "import gmaps\n",
    "import os\n",
    "\n",
    "# Import API key\n",
    "from api_keys import g_key\n"
   ]
  },
  {
   "cell_type": "markdown",
   "metadata": {},
   "source": [
    "### Store Part I results into DataFrame\n",
    "* Load the csv exported in Part I to a DataFrame"
   ]
  },
  {
   "cell_type": "code",
   "execution_count": 2,
   "metadata": {},
   "outputs": [],
   "source": [
    "# Import csv file created in previous step\n",
    "output_data_file = \"../output_data/cities.csv\"\n",
    "weather_df = weather_df = pd.read_csv(output_data_file)\n"
   ]
  },
  {
   "cell_type": "markdown",
   "metadata": {},
   "source": [
    "### Humidity Heatmap\n",
    "* Configure gmaps.\n",
    "* Use the Lat and Lng as locations and Humidity as the weight.\n",
    "* Add Heatmap layer to map."
   ]
  },
  {
   "cell_type": "code",
   "execution_count": 3,
   "metadata": {},
   "outputs": [
    {
     "data": {
      "application/vnd.jupyter.widget-view+json": {
       "model_id": "b34415441fed414dbb4b334dd2f95189",
       "version_major": 2,
       "version_minor": 0
      },
      "text/plain": [
       "Figure(layout=FigureLayout(border='1px solid black', height='700px', margin='0 auto 0 auto', padding='1px', wi…"
      ]
     },
     "metadata": {},
     "output_type": "display_data"
    }
   ],
   "source": [
    "## Configure gmaps\n",
    "gmaps.configure(api_key=g_key)\n",
    "# Store latitude and longitude in locations\n",
    "locations = weather_df[[\"Lat\", \"Lng\"]]\n",
    "\n",
    "# Store Humidity in humidty\n",
    "humidity = weather_df[\"Humidity\"]\n",
    "\n",
    "# Create the figure for the heatmap\n",
    "figure_layout = {\n",
    "    'width': '1200px',\n",
    "    'height': '700px',\n",
    "    'border': '1px solid black',\n",
    "    'padding': '1px',\n",
    "    'margin': '0 auto 0 auto'\n",
    "}\n",
    "fig = gmaps.figure(layout=figure_layout,center=(10,0),zoom_level=2)\n",
    "\n",
    "\n",
    "# Create heat layer based on humidity\n",
    "heat_layer = gmaps.heatmap_layer(locations, weights=humidity, \n",
    "                                 dissipating=False, max_intensity=humidity.max(),\n",
    "                                 point_radius=4)\n",
    "\n",
    "# Add layer\n",
    "fig.add_layer(heat_layer)\n",
    "\n",
    "# Display figure\n",
    "fig\n"
   ]
  },
  {
   "cell_type": "markdown",
   "metadata": {},
   "source": [
    "### Create new DataFrame fitting weather criteria\n",
    "* Narrow down the cities to fit weather conditions.\n",
    "* Drop any rows will null values."
   ]
  },
  {
   "cell_type": "code",
   "execution_count": 4,
   "metadata": {},
   "outputs": [],
   "source": [
    "# Create ideal weather DataFrame\n",
    "ideal_weather_df = weather_df.loc[(weather_df[\"Cloudiness\"] == 0) & \n",
    "                                  (weather_df[\"Wind Speed\"] < 10) & \n",
    "                                  (weather_df[\"Max Temp\"] > 70) &\n",
    "                                  (weather_df[\"Max Temp\"] < 80)]\n",
    "\n",
    "# Remove rows with missing information\n",
    "ideal_weather_df = ideal_weather_df.dropna()\n"
   ]
  },
  {
   "cell_type": "markdown",
   "metadata": {},
   "source": [
    "### Hotel Map\n",
    "* Store into variable named `hotel_df`.\n",
    "* Add a \"Hotel Name\" column to the DataFrame.\n",
    "* Set parameters to search for hotels with 5000 meters.\n",
    "* Hit the Google Places API for each city's coordinates.\n",
    "* Store the first Hotel result into the DataFrame.\n",
    "* Plot markers on top of the heatmap."
   ]
  },
  {
   "cell_type": "code",
   "execution_count": 5,
   "metadata": {},
   "outputs": [],
   "source": [
    "# Create a dataframe for hotel data by copying the ideal weather dataframe\n",
    "hotel_df = ideal_weather_df.copy()\n",
    "\n",
    "# Add column Hotel Name to the dataframe\n",
    "hotel_df[\"Hotel Name\"] = \"\"\n",
    "\n",
    "# Reset the index\n",
    "hotel_df.reset_index(drop=True,inplace=True)\n",
    "\n",
    "# Configure search criteria\n",
    "target_search = \"hotel\"\n",
    "target_radius = 5000\n",
    "target_type = \"lodging\"\n",
    "\n",
    "# Set up parameters dictionary\n",
    "params = {\n",
    "    \"keyword\": target_search,\n",
    "    \"radius\": target_radius,\n",
    "    \"type\": target_type,\n",
    "    \"key\": g_key\n",
    "}\n",
    "\n",
    "# Set the base url\n",
    "base_url = \"https://maps.googleapis.com/maps/api/place/nearbysearch/json\"\n",
    "\n",
    "# Loop through each city\n",
    "for index,row in hotel_df.iterrows():\n",
    "    # Add paramater location using the Lat/Lng\n",
    "    params['location'] = (f\"{row['Lat']},{row['Lng']}\")\n",
    "\n",
    "    # Send a request to the API\n",
    "    response = requests.get(base_url, params=params).json()\n",
    "\n",
    "    # Read the response and try to get the hotel name, if no hotels set it to blanks\n",
    "    try:\n",
    "        # get first hotel name\n",
    "        hotel_name = response[\"results\"][0][\"name\"]\n",
    "    except IndexError:\n",
    "        hotel_name=\"\"\n",
    "\n",
    "    # Add hotel name to dataframe row\n",
    "    hotel_df.loc[index, \"Hotel Name\"] = hotel_name\n",
    "\n",
    "# Remove cities that did not return a hotel\n",
    "hotel_df = hotel_df.loc[hotel_df[\"Hotel Name\"] != \"\"]\n"
   ]
  },
  {
   "cell_type": "code",
   "execution_count": 6,
   "metadata": {},
   "outputs": [],
   "source": [
    "# NOTE: Do not change any of the code in this cell\n",
    "\n",
    "# Using the template add the hotel marks to the heatmap\n",
    "info_box_template = \"\"\"\n",
    "<dl>\n",
    "<dt>Name</dt><dd>{Hotel Name}</dd>\n",
    "<dt>City</dt><dd>{City}</dd>\n",
    "<dt>Country</dt><dd>{Country}</dd>\n",
    "</dl>\n",
    "\"\"\"\n",
    "# Store the DataFrame Row\n",
    "# NOTE: be sure to update with your DataFrame name\n",
    "hotel_info = [info_box_template.format(**row) for index, row in hotel_df.iterrows()]\n",
    "locations = hotel_df[[\"Lat\", \"Lng\"]]"
   ]
  },
  {
   "cell_type": "code",
   "execution_count": 7,
   "metadata": {},
   "outputs": [
    {
     "data": {
      "application/vnd.jupyter.widget-view+json": {
       "model_id": "b34415441fed414dbb4b334dd2f95189",
       "version_major": 2,
       "version_minor": 0
      },
      "text/plain": [
       "Figure(layout=FigureLayout(border='1px solid black', height='700px', margin='0 auto 0 auto', padding='1px', wi…"
      ]
     },
     "metadata": {},
     "output_type": "display_data"
    }
   ],
   "source": [
    "# Configure markers using the locations for the marker and the Hotel data to display when clicked\n",
    "markers = gmaps.marker_layer(locations,info_box_content=hotel_info)\n",
    "# Add the layer to the map\n",
    "fig.add_layer(markers)\n",
    "\n",
    "# Display Map\n",
    "fig"
   ]
  },
  {
   "cell_type": "code",
   "execution_count": null,
   "metadata": {},
   "outputs": [],
   "source": []
  }
 ],
 "metadata": {
  "kernelspec": {
   "display_name": "Python 3",
   "language": "python",
   "name": "python3"
  },
  "language_info": {
   "codemirror_mode": {
    "name": "ipython",
    "version": 3
   },
   "file_extension": ".py",
   "mimetype": "text/x-python",
   "name": "python",
   "nbconvert_exporter": "python",
   "pygments_lexer": "ipython3",
   "version": "3.6.10"
  },
  "latex_envs": {
   "LaTeX_envs_menu_present": true,
   "autoclose": false,
   "autocomplete": true,
   "bibliofile": "biblio.bib",
   "cite_by": "apalike",
   "current_citInitial": 1,
   "eqLabelWithNumbers": true,
   "eqNumInitial": 1,
   "hotkeys": {
    "equation": "Ctrl-E",
    "itemize": "Ctrl-I"
   },
   "labels_anchors": false,
   "latex_user_defs": false,
   "report_style_numbering": false,
   "user_envs_cfg": false
  }
 },
 "nbformat": 4,
 "nbformat_minor": 2
}
